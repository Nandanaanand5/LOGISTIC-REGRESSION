{
 "cells": [
  {
   "cell_type": "code",
   "execution_count": null,
   "id": "6176bf80",
   "metadata": {},
   "outputs": [],
   "source": [
    "import pandas as pd\n",
    "import numpy as np\n",
    "data=pd.read_csv(\"heart_cleveland_upload.csv\")\n",
    "data"
   ]
  },
  {
   "cell_type": "code",
   "execution_count": null,
   "id": "efa276c2",
   "metadata": {},
   "outputs": [],
   "source": [
    "data.info()"
   ]
  },
  {
   "cell_type": "code",
   "execution_count": null,
   "id": "ae4d95be",
   "metadata": {},
   "outputs": [],
   "source": [
    "data.shape"
   ]
  },
  {
   "cell_type": "code",
   "execution_count": null,
   "id": "64117f1f",
   "metadata": {},
   "outputs": [],
   "source": [
    "data.isna().sum()"
   ]
  },
  {
   "cell_type": "code",
   "execution_count": null,
   "id": "5ad13d80",
   "metadata": {},
   "outputs": [],
   "source": [
    "data.head(10)"
   ]
  },
  {
   "cell_type": "code",
   "execution_count": null,
   "id": "7a03bc35",
   "metadata": {},
   "outputs": [],
   "source": [
    "data.columns"
   ]
  },
  {
   "cell_type": "code",
   "execution_count": null,
   "id": "c2b31ae1",
   "metadata": {},
   "outputs": [],
   "source": [
    "data['condition'].value_counts()"
   ]
  },
  {
   "cell_type": "code",
   "execution_count": null,
   "id": "6e7feb9c",
   "metadata": {},
   "outputs": [],
   "source": [
    "X=data[['age', 'sex', 'cp', 'trestbps', 'chol', 'fbs', 'restecg', 'thalach',\n",
    "       'exang', 'oldpeak', 'slope', 'ca', 'thal']]\n",
    "y=data[['condition']]"
   ]
  },
  {
   "cell_type": "code",
   "execution_count": null,
   "id": "9fc82b4f",
   "metadata": {},
   "outputs": [],
   "source": [
    "from sklearn.model_selection import train_test_split\n",
    "X_train,X_test,y_train,y_test=train_test_split(X,y,test_size=0.3,random_state=15)"
   ]
  },
  {
   "cell_type": "code",
   "execution_count": null,
   "id": "775a2ffd",
   "metadata": {},
   "outputs": [],
   "source": [
    "from sklearn.linear_model import LogisticRegression"
   ]
  },
  {
   "cell_type": "code",
   "execution_count": null,
   "id": "6ef2a2bc",
   "metadata": {},
   "outputs": [],
   "source": [
    "lg=LogisticRegression()\n",
    "lg.fit(X_train,y_train)"
   ]
  },
  {
   "cell_type": "code",
   "execution_count": null,
   "id": "6d618ba4",
   "metadata": {},
   "outputs": [],
   "source": [
    "y_pred=lg.predict(X_test)"
   ]
  },
  {
   "cell_type": "code",
   "execution_count": null,
   "id": "e64ea6e0",
   "metadata": {},
   "outputs": [],
   "source": [
    "from sklearn.metrics import accuracy_score"
   ]
  },
  {
   "cell_type": "code",
   "execution_count": null,
   "id": "ce06e59d",
   "metadata": {},
   "outputs": [],
   "source": [
    "ac_score=accuracy_score(y_test,y_pred)"
   ]
  },
  {
   "cell_type": "code",
   "execution_count": null,
   "id": "8e9b0419",
   "metadata": {},
   "outputs": [],
   "source": [
    "print(f\"ac_score:\",ac_score)"
   ]
  },
  {
   "cell_type": "code",
   "execution_count": null,
   "id": "b66f93ae",
   "metadata": {},
   "outputs": [],
   "source": [
    "#initialize the variables to track the results\n",
    "accuracies=[]\n",
    "drop_features=[]"
   ]
  },
  {
   "cell_type": "code",
   "execution_count": null,
   "id": "88e4592e",
   "metadata": {},
   "outputs": [],
   "source": [
    "while X_train.shape[1]>1: #continue untill atleast one feature\n",
    "    \n",
    "    #get feature importances(coefficients)\n",
    "    feature_importance=np.abs(lg.coef_[0])\n",
    "    #find the index of the least important feature\n",
    "    l_importance_idx=np.argmin(feature_importance)\n",
    "    #get the name of the least important feature\n",
    "    l_importance_feature=X_train.columns[l_importance_idx]\n",
    "    #track the dropped feature\n",
    "    drop_features.append(l_importance_feature)\n",
    "    #drop the least important feature from both training and testing data\n",
    "    \n",
    "    X_train=X_train.drop(l_importance_feature,axis=1)\n",
    "    X_test=X_test.drop(l_importance_feature,axis=1)\n",
    "    \n",
    "    #train the model\n",
    "    \n",
    "    lg.fit(X_train,y_train)\n",
    "    \n",
    "    #calculate the accuracy on current dataset\n",
    "    \n",
    "    y_pred=lg.predict(X_test)\n",
    "    ac_score=accuracy_score(y_test,y_pred)\n",
    "    accuracies.append(ac_score)\n",
    "    \n",
    "#print the final list of dropped features and their impact on accuracy\n",
    "    \n",
    "for feature,ac_score in zip(drop_features,accuracies):\n",
    "    print(f\"'{feature}'- Accuracy:{ac_score: .2f}\")"
   ]
  },
  {
   "cell_type": "code",
   "execution_count": null,
   "id": "4e1f89b7",
   "metadata": {},
   "outputs": [],
   "source": []
  },
  {
   "cell_type": "code",
   "execution_count": null,
   "id": "b4ac6b63",
   "metadata": {},
   "outputs": [],
   "source": []
  },
  {
   "cell_type": "code",
   "execution_count": null,
   "id": "82399eee",
   "metadata": {},
   "outputs": [],
   "source": []
  }
 ],
 "metadata": {
  "kernelspec": {
   "display_name": "Python 3 (ipykernel)",
   "language": "python",
   "name": "python3"
  },
  "language_info": {
   "codemirror_mode": {
    "name": "ipython",
    "version": 3
   },
   "file_extension": ".py",
   "mimetype": "text/x-python",
   "name": "python",
   "nbconvert_exporter": "python",
   "pygments_lexer": "ipython3",
   "version": "3.11.5"
  }
 },
 "nbformat": 4,
 "nbformat_minor": 5
}
